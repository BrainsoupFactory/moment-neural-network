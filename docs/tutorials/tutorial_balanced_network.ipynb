{
 "cells": [
  {
   "cell_type": "markdown",
   "id": "ee008eeb",
   "metadata": {},
   "source": [
    "# **Modeling E-I neural circuit using MNN**\n",
    "\n",
    "This tutorial explains how to use the MNN to implement the classic excitation-inhibition neural circuit by Brunel (2000).\n",
    "\n",
    "- Brunel, N. Dynamics of Sparsely Connected Networks of Excitatory and Inhibitory Spiking Neurons. *J. Comput. Neurosci.* **8**, 183–208 (2000).\n",
    "\n",
    "The main advantage of the MNN is that it captures the coupling of firing statistics between individual neurons in a large network, whereas previous works have to resort to population-averaged statistics, assuming homogeneity.\n",
    "\n",
    "We can describe the dynamics of the first two moments of neural firing using a recurrent MNN as\n",
    "\n",
    "$\\tau\\dfrac{d\\mu_i}{dt} = -\\mu_i + \\phi_{\\rm mean}(\\bar{\\mu}_i,\\bar{\\sigma}_i^2)$\n",
    "\n",
    "$\\tau\\dfrac{d\\sigma_i^2}{dt} = -\\sigma_i^2 + \\phi_{\\rm var}(\\bar{\\mu}_i,\\bar{\\sigma}_i^2)$\n",
    "\n",
    "where $\\bar{\\mu}_i = \\sum_j W_{ij}\\mu_j+\\bar{\\mu}_{\\rm ext}$ and $\\bar{\\sigma}^2_i = \\sum_j W_{ij}^2\\sigma^2_j+\\bar{\\sigma}^2_{\\rm ext}$ are the mean and variance of the total synaptic current. The nonlinear mappings $\\phi_{\\rm mean}$ and $\\phi_{\\rm var}$ are the moment activation (see tutorial on moment activation). In this sparsely connected network, the noise correlations between neurons are extremely weak so we ignore the covariance and only calculate the variance.\n",
    "\n",
    "\n",
    "We will implement this model with PyTorch to take advantage of GPU acceleration but the code also runs without GPU (simply set `device='cpu'` in the config).\n",
    "\n",
    "You need to copy this notebook to the root directory (under `moment-neural-network`).\n",
    "\n",
    "First, the necessary imports."
   ]
  },
  {
   "cell_type": "code",
   "execution_count": 102,
   "id": "988e61ad",
   "metadata": {},
   "outputs": [],
   "source": [
    "import torch\n",
    "from mnn.mnn_core.mnn_utils import Mnn_Core_Func\n",
    "import numpy as np\n",
    "from pprint import pprint\n",
    "from matplotlib import pyplot as plt"
   ]
  },
  {
   "cell_type": "markdown",
   "id": "f626f9fb",
   "metadata": {},
   "source": [
    "We define a helper function that outputs a dictionary containing all parameters of the model."
   ]
  },
  {
   "cell_type": "code",
   "execution_count": null,
   "id": "5e2e9852",
   "metadata": {},
   "outputs": [
    {
     "name": "stdout",
     "output_type": "stream",
     "text": [
      "{'NE': 1000,\n",
      " 'NI': 250,\n",
      " 'T': 10,\n",
      " 'Tref': 5,\n",
      " 'Vres': 0,\n",
      " 'Vth': 20,\n",
      " 'conn_prob': 0.1,\n",
      " 'device': 'cuda',\n",
      " 'dt': 0.1,\n",
      " 'ie_ratio': 4.0,\n",
      " 'record_ts': False,\n",
      " 'tau': 1,\n",
      " 'w_ext': 0.1,\n",
      " 'wee': 1.0,\n",
      " 'wei': -4.0,\n",
      " 'wie': 1.0,\n",
      " 'wii': -4.0}\n"
     ]
    }
   ],
   "source": [
    "def gen_config(N=12500, ie_ratio=4.0, w=0.1, w_ext=0.1, device='cpu'):    \n",
    "    config = {\n",
    "    'Vth': 20, #mV, firing threshold, default 20\n",
    "    'Vres': 0, #mV reset potential; default 0\n",
    "    'Tref': 5, #ms, refractory period, default 5\n",
    "    'NE': int(0.8*N), # number of excitatory neurons\n",
    "    'NI': int(0.2*N), # number of inhibitory neurons\n",
    "    'ie_ratio': ie_ratio,  #ratio between I/E synaptic weights\n",
    "    'wee':w, # E-to-E weights\n",
    "    'wei':-w*ie_ratio, #I-to-E weights\n",
    "    'wie':w, # E-to-I weights\n",
    "    'wii':-w*ie_ratio, # I-to_I weights\n",
    "    'w_ext': w_ext, # external excitatory weight\n",
    "    'conn_prob': 0.1, #connection probability\n",
    "    'dt':0.1, # integration time step for mnn (a.u.)\n",
    "    'T':10, #simualtion duration (a.u.)\n",
    "    'device': device,\n",
    "    'tau': 1, # time constant in MNN (a.u.)\n",
    "    }\n",
    "    return config\n",
    "\n",
    "config = gen_config(N=1250, ie_ratio=4.0, w=1.0, w_ext=0.1, device='cuda')\n",
    "pprint(config)"
   ]
  },
  {
   "cell_type": "markdown",
   "id": "e7a6331e",
   "metadata": {},
   "source": [
    "Next, we define the recurrent connectivity of the neural circuit. The circuit consists of `NE` excitatory neurons and `NI` inhibitory neurons. The strength of excitatory/inhibitory synaptic weights are constants. The connections are drawn randomly with a probability specified by `conn_prob`."
   ]
  },
  {
   "cell_type": "code",
   "execution_count": null,
   "id": "d22d8f97",
   "metadata": {},
   "outputs": [
    {
     "name": "stdout",
     "output_type": "stream",
     "text": [
      "torch.Size([1250, 1250])\n"
     ]
    }
   ],
   "source": [
    "def gen_synaptic_weight(config):\n",
    "    Ne = config['NE']\n",
    "    Ni = config['NI']\n",
    "    N = Ne + Ni\n",
    "    \n",
    "    W = torch.randn(N, N)\n",
    "    coin_toss = torch.rand(N, N)\n",
    "\n",
    "    # Excitatory weight\n",
    "    W[:Ne, :Ne] = config['wee']\n",
    "    W[Ne:, :Ne] = config['wie']\n",
    "    # Inhibitory weight\n",
    "    W[:Ne, Ne:] = config['wei']\n",
    "    W[Ne:, Ne:] = config['wii']\n",
    "    \n",
    "    # Apply connection probability\n",
    "    W[coin_toss > config['conn_prob']] = 0\n",
    "    # Remove diagonal (self-connection)\n",
    "    W.fill_diagonal_(0)\n",
    "    \n",
    "    return W.to(config['device'])\n",
    "\n",
    "W = gen_synaptic_weight(config)\n",
    "print(W.shape)"
   ]
  },
  {
   "cell_type": "markdown",
   "id": "797e15cf",
   "metadata": {},
   "source": [
    "Next, we define a generator for the external input. Here, we consider independent Poisson spike trains with excitatory synapses. The method `InputGenerator().uncorr_input` outputs the mean and variance of the total external synaptic current. They are 2D arrays, with the 0th dimension reserved for the batch dimension (to efficiently utilize GPU acceleration), and the 1th dimension corresponding to the number of neurons. \n",
    "\n",
    "Here, we use the batch dimension to implement multiple trials with different input strengths. But you may also use it to parallelize trials that varies other parameters (or combinations of parameters)."
   ]
  },
  {
   "cell_type": "code",
   "execution_count": 105,
   "id": "1b415cdf",
   "metadata": {},
   "outputs": [
    {
     "name": "stdout",
     "output_type": "stream",
     "text": [
      "torch.Size([11, 1250])\n",
      "torch.Size([11, 1250])\n"
     ]
    }
   ],
   "source": [
    "class InputGenerator():\n",
    "    def __init__(self, config):\n",
    "        self.NE = config['NE']\n",
    "        self.NI = config['NI']\n",
    "        self.N = config['NE']+config['NI']\n",
    "        self.w_ext = config['w_ext']\n",
    "        self.device = config['device']        \n",
    "        return\n",
    "\n",
    "    def uncorr_input(self, input_rate_array):\n",
    "        # input argument dimensions: batchsize x #neurons\n",
    "        input_mean = self.w_ext*input_rate_array*torch.ones(1,self.N, device=self.device) #input current mean        \n",
    "        input_var = self.w_ext*self.w_ext*input_rate_array*torch.ones(1,self.N, device=self.device)\n",
    "        return input_mean, input_var                   \n",
    "\n",
    "input_gen = InputGenerator(config)\n",
    "input_rate_array = torch.linspace(0,40,11, device=config['device']).unsqueeze(1)\n",
    "\n",
    "input_mean, input_var = input_gen.uncorr_input(input_rate_array)\n",
    "print(input_mean.shape)\n",
    "print(input_var.shape)"
   ]
  },
  {
   "cell_type": "markdown",
   "id": "a5432c0b",
   "metadata": {},
   "source": [
    "Given the recurrent weights and the external inputs specified, we can now define the recurrent MNN model. Note that in practice, the synaptic summation is implemented as a right multiplication with the weight matrix transposed. This is because the 0th dimension is reserved for batch (trial) dimension. For simplicity, this implementation does not consider synaptic delay."
   ]
  },
  {
   "cell_type": "code",
   "execution_count": null,
   "id": "5b04d194",
   "metadata": {},
   "outputs": [],
   "source": [
    "class RecurrentMNN():\n",
    "    def __init__(self, config, W):\n",
    "        self.NE = config['NE']\n",
    "        self.NI = config['NI']\n",
    "        self.N = self.NE + self.NI\n",
    "        self.dt = config['dt'] # integration time-step (a.u.)\n",
    "        self.tau = config['tau'] # time constant (a.u.)\n",
    "        self.W = W # synaptic weight matrix\n",
    "        self.T = config['T'] # total simulation duration (a.u.)\n",
    "\n",
    "        # create instance of moment activation and update neuronal parameter\n",
    "        self.ma = Mnn_Core_Func()\n",
    "        self.ma.vol_th = config['Vth']\n",
    "        self.ma.vol_rest = config['Vres']\n",
    "        self.ma.t_ref = config['Tref']\n",
    "        \n",
    "        \n",
    "    def run(self, ff_mean, ff_var):\n",
    "        \n",
    "        self.nsteps = int(self.T/self.dt)\n",
    "        self.batchsize = ff_mean.shape[0]\n",
    "\n",
    "        # initial condition\n",
    "        m = torch.ones(self.batchsize,self.N, device=ff_mean.device) # mean firing rate\n",
    "        v = torch.ones(self.batchsize,self.N, device=ff_mean.device) # firint variability\n",
    "        \n",
    "        a = self.dt/self.tau\n",
    "        \n",
    "        for i in range(self.nsteps):\n",
    "            \n",
    "            curr_mean = torch.mm(m, self.W.T) + ff_mean\n",
    "            curr_std = torch.sqrt( torch.mm( v, self.W.T.pow(2)) + ff_var)\n",
    "            \n",
    "            # NB: current implementation of moment activation processes the std instead of var\n",
    "            curr_mean = curr_mean.squeeze().cpu().numpy()\n",
    "            curr_std = curr_std.squeeze().cpu().numpy()\n",
    "            maf_u = self.ma.forward_fast_mean(curr_mean, curr_std)\n",
    "            maf_s = self.ma.forward_fast_std(curr_mean, curr_std, maf_u)\n",
    "            maf_u = torch.from_numpy(maf_u).to(torch.float64).to(ff_mean.device)\n",
    "            maf_s = torch.from_numpy(maf_s).to(torch.float64).to(ff_mean.device)\n",
    "\n",
    "            # evolve one step in time\n",
    "            m = (1-a)*m + a*maf_u.squeeze()\n",
    "            v = (1-a)*v + a*maf_s.pow(2.0).squeeze()\n",
    "\n",
    "        return m, v\n"
   ]
  },
  {
   "cell_type": "markdown",
   "id": "7c2ab7ab",
   "metadata": {},
   "source": [
    "Below is a complete script running the model. The model parameters are set to be consistent with Fig. 1 in Brunel (2000)."
   ]
  },
  {
   "cell_type": "code",
   "execution_count": null,
   "id": "e36dcfdc",
   "metadata": {},
   "outputs": [
    {
     "name": "stdout",
     "output_type": "stream",
     "text": [
      "Generating synaptic weights...\n",
      "Creating recurrent MNN...\n",
      "Creating input generator...\n",
      "Simulating the MNN...\n",
      "Done!\n"
     ]
    }
   ],
   "source": [
    "torch.set_default_dtype(torch.float64) # set to double precision\n",
    "\n",
    "# specify model parameters\n",
    "config = gen_config(N=12500, ie_ratio=5.0, w=0.2, w_ext=0.1, device='cuda')\n",
    "\n",
    "# update neuronal parameters to be consistent with Brunel (2000), Fig. 1\n",
    "config['Vth']=20 \n",
    "config['Vres']=10\n",
    "config['Tref']=2\n",
    "config['conn_prob']=0.4\n",
    "\n",
    "print('Generating synaptic weights...')\n",
    "W = gen_synaptic_weight(config)\n",
    "\n",
    "print('Creating recurrent MNN...')\n",
    "rec_mnn = RecurrentMNN(config, W)\n",
    "\n",
    "print('Creating input generator...')\n",
    "input_gen= InputGenerator(config)\n",
    "input_rate_array = torch.linspace(0,40,21, device=config['device']).unsqueeze(1)\n",
    "\n",
    "print('Simulating the MNN...')\n",
    "input_mean, input_var = input_gen.uncorr_input(input_rate_array)\n",
    "out_mean, out_var = rec_mnn.run( input_mean, input_var )\n",
    "\n",
    "print('Done!')"
   ]
  },
  {
   "cell_type": "markdown",
   "id": "441f4aeb",
   "metadata": {},
   "source": [
    "Plot the population-averaged firing rate and coefficient of variation (CV) as a function of the input rates. Note that for renewal process, the CV of inter-spike-interval is the square root of spike count Fano factor (ratio between spike count variance and spike count mean) over long time windows.\n",
    "\n",
    "Compare the results to Fig. 1 in Brunel (2000)."
   ]
  },
  {
   "cell_type": "code",
   "execution_count": 108,
   "id": "8e243c7d",
   "metadata": {},
   "outputs": [
    {
     "data": {
      "image/png": "[encoded data removed]",
      "text/plain": [
       "<Figure size 700x300 with 2 Axes>"
      ]
     },
     "metadata": {},
     "output_type": "display_data"
    }
   ],
   "source": [
    "pop_mean = out_mean.mean(1).squeeze()\n",
    "pop_var = out_var.mean(1).squeeze()\n",
    "CV = torch.sqrt(out_var/out_mean).mean(1).squeeze()\n",
    "\n",
    "plt.figure(figsize=(7,3))\n",
    "plt.subplot(1,2,1)\n",
    "plt.plot(input_rate_array.squeeze().to('cpu').numpy(), pop_mean.to('cpu').numpy() )\n",
    "plt.xlabel('Input rate (sp/ms)')\n",
    "plt.ylabel('Pop. avg. firing rate (sp/ms)')\n",
    "plt.subplot(1,2,2)\n",
    "plt.plot(input_rate_array.squeeze().to('cpu').numpy(), CV.to('cpu').numpy() )\n",
    "plt.xlabel('Input rate (sp/ms)')\n",
    "plt.ylabel('Pop. avg. CV')\n",
    "plt.tight_layout()\n"
   ]
  },
  {
   "cell_type": "markdown",
   "id": "4d120f74",
   "metadata": {},
   "source": [
    "## Exercises\n",
    "1. Try simulate the model with different values of `ie_ratio`. Can you use the MNN to explain the synchronous regular and asynchronous irregular regimes reported by Brunel (2000)?\n",
    "2. Examine the effect of quenched noise (randomn connections) on the firing statistics of individual neurons.\n",
    "3. How would you code synaptic delay in this model?"
   ]
  }
 ],
 "metadata": {
  "kernelspec": {
   "display_name": "sophie",
   "language": "python",
   "name": "python3"
  },
  "language_info": {
   "codemirror_mode": {
    "name": "ipython",
    "version": 3
   },
   "file_extension": ".py",
   "mimetype": "text/x-python",
   "name": "python",
   "nbconvert_exporter": "python",
   "pygments_lexer": "ipython3",
   "version": "3.13.3"
  }
 },
 "nbformat": 4,
 "nbformat_minor": 5
}
